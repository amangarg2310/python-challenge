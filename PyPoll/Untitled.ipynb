{
 "cells": [
  {
   "cell_type": "code",
   "execution_count": 4,
   "metadata": {},
   "outputs": [
    {
     "name": "stdout",
     "output_type": "stream",
     "text": [
      "canidate = Khan\n",
      "canidate = Correy\n",
      "canidate = Li\n",
      "canidate = O'Tooley\n"
     ]
    },
    {
     "name": "stderr",
     "output_type": "stream",
     "text": [
      "IOPub data rate exceeded.\n",
      "The notebook server will temporarily stop sending output\n",
      "to the client in order to avoid crashing it.\n",
      "To change this limit, set the config variable\n",
      "`--NotebookApp.iopub_data_rate_limit`.\n",
      "\n",
      "Current values:\n",
      "NotebookApp.iopub_data_rate_limit=1000000.0 (bytes/sec)\n",
      "NotebookApp.rate_limit_window=3.0 (secs)\n",
      "\n"
     ]
    },
    {
     "name": "stdout",
     "output_type": "stream",
     "text": [
      "2218231\n",
      "2218231\n",
      "492940\n",
      "704200\n",
      "2218231\n",
      "2218231\n",
      "704200\n",
      "2218231\n",
      "704200\n",
      "2218231\n",
      "2218231\n",
      "704200\n",
      "2218231\n",
      "704200\n",
      "704200\n",
      "2218231\n",
      "704200\n",
      "704200\n",
      "704200\n",
      "704200\n",
      "2218231\n",
      "2218231\n",
      "2218231\n",
      "2218231\n",
      "2218231\n",
      "2218231\n",
      "704200\n",
      "704200\n",
      "2218231\n",
      "2218231\n",
      "2218231\n",
      "2218231\n",
      "2218231\n",
      "2218231\n",
      "492940\n"
     ]
    },
    {
     "ename": "KeyboardInterrupt",
     "evalue": "",
     "output_type": "error",
     "traceback": [
      "\u001b[1;31m---------------------------------------------------------------------------\u001b[0m",
      "\u001b[1;31mKeyboardInterrupt\u001b[0m                         Traceback (most recent call last)",
      "\u001b[1;32m<ipython-input-4-7e470b90a927>\u001b[0m in \u001b[0;36m<module>\u001b[1;34m\u001b[0m\n\u001b[0;32m     42\u001b[0m             \u001b[0mprint\u001b[0m\u001b[1;33m(\u001b[0m\u001b[0munique_vote\u001b[0m\u001b[1;33m)\u001b[0m\u001b[1;33m\u001b[0m\u001b[1;33m\u001b[0m\u001b[0m\n\u001b[0;32m     43\u001b[0m \u001b[1;33m\u001b[0m\u001b[0m\n\u001b[1;32m---> 44\u001b[1;33m     \u001b[0muniquevotes\u001b[0m\u001b[1;33m(\u001b[0m\u001b[0mcandidatelist\u001b[0m\u001b[1;33m)\u001b[0m\u001b[1;33m\u001b[0m\u001b[1;33m\u001b[0m\u001b[0m\n\u001b[0m\u001b[0;32m     45\u001b[0m \u001b[1;33m\u001b[0m\u001b[0m\n\u001b[0;32m     46\u001b[0m \u001b[1;31m#create function for % votes\u001b[0m\u001b[1;33m\u001b[0m\u001b[1;33m\u001b[0m\u001b[1;33m\u001b[0m\u001b[0m\n",
      "\u001b[1;32m<ipython-input-4-7e470b90a927>\u001b[0m in \u001b[0;36muniquevotes\u001b[1;34m(candidatelist)\u001b[0m\n\u001b[0;32m     40\u001b[0m         \u001b[1;32mfor\u001b[0m \u001b[0mx\u001b[0m \u001b[1;32min\u001b[0m \u001b[0mcandidatelist\u001b[0m\u001b[1;33m:\u001b[0m\u001b[1;33m\u001b[0m\u001b[1;33m\u001b[0m\u001b[0m\n\u001b[0;32m     41\u001b[0m             \u001b[0munique_vote\u001b[0m \u001b[1;33m=\u001b[0m \u001b[0mcandidatelist\u001b[0m\u001b[1;33m.\u001b[0m\u001b[0mcount\u001b[0m\u001b[1;33m(\u001b[0m\u001b[0mx\u001b[0m\u001b[1;33m)\u001b[0m\u001b[1;33m\u001b[0m\u001b[1;33m\u001b[0m\u001b[0m\n\u001b[1;32m---> 42\u001b[1;33m             \u001b[0mprint\u001b[0m\u001b[1;33m(\u001b[0m\u001b[0munique_vote\u001b[0m\u001b[1;33m)\u001b[0m\u001b[1;33m\u001b[0m\u001b[1;33m\u001b[0m\u001b[0m\n\u001b[0m\u001b[0;32m     43\u001b[0m \u001b[1;33m\u001b[0m\u001b[0m\n\u001b[0;32m     44\u001b[0m     \u001b[0muniquevotes\u001b[0m\u001b[1;33m(\u001b[0m\u001b[0mcandidatelist\u001b[0m\u001b[1;33m)\u001b[0m\u001b[1;33m\u001b[0m\u001b[1;33m\u001b[0m\u001b[0m\n",
      "\u001b[1;31mKeyboardInterrupt\u001b[0m: "
     ]
    }
   ],
   "source": [
    "import os\n",
    "import csv\n",
    "\n",
    "election_data_path = os.path.join(\"./election_data.csv\")\n",
    "\n",
    "totalvotes = 0\n",
    "unique_vote = 0\n",
    "\n",
    "candidatelist = []\n",
    "unique_candidate = []\n",
    "unique_vote = []\n",
    "vote_count = []\n",
    "vote_percent = []\n",
    "\n",
    "with open(election_data_path, 'r', newline=\"\") as csvfile:\n",
    "    csvreader = csv.reader(csvfile, delimiter=\",\")\n",
    "    csv_header = next(csvreader)\n",
    "\n",
    "#totalvotes\n",
    "    for row in csvreader:\n",
    "        totalvotes = totalvotes + 1\n",
    "\n",
    "#appendcandidatelist\n",
    "        candidatelist.append(row[2])\n",
    "        \n",
    "#create unique function for candidates\n",
    "    def uniquecandidates(candidatelist):\n",
    "        \n",
    "        for x in candidatelist:\n",
    "            if x not in unique_candidate:\n",
    "                unique_candidate.append(x)\n",
    "                print(\"canidate = {}\".format(x))\n",
    "        \n",
    "    uniquecandidates(candidatelist)\n",
    "\n",
    "#create unique function for candidate votes\n",
    "    def uniquevotes(candidatelist):\n",
    "        print(\"candidate_l = {}\".format(candidatelist))\n",
    "        \n",
    "        for x in candidatelist:\n",
    "            unique_vote = candidatelist.count(x)\n",
    "            print(unique_vote)\n",
    "        \n",
    "    uniquevotes(candidatelist)\n",
    "\n",
    "#create function for % votes\n",
    "    def percenttotalvotes(candidatelist):\n",
    "        \n",
    "        for x in candidatelist:\n",
    "            vote_percent = (unique_vote/vote) * 100\n",
    "        \n",
    "    percenttotalvotes(candidatelist)\n",
    "            \n",
    "    \n",
    "    winning_vote_count = max(unique_vote)\n",
    "    winner = unique_candidate[unique_vote.index(winning_vote_count)]"
   ]
  },
  {
   "cell_type": "code",
   "execution_count": null,
   "metadata": {},
   "outputs": [],
   "source": []
  },
  {
   "cell_type": "code",
   "execution_count": null,
   "metadata": {},
   "outputs": [],
   "source": []
  }
 ],
 "metadata": {
  "kernelspec": {
   "display_name": "Python 3",
   "language": "python",
   "name": "python3"
  },
  "language_info": {
   "codemirror_mode": {
    "name": "ipython",
    "version": 3
   },
   "file_extension": ".py",
   "mimetype": "text/x-python",
   "name": "python",
   "nbconvert_exporter": "python",
   "pygments_lexer": "ipython3",
   "version": "3.7.3"
  }
 },
 "nbformat": 4,
 "nbformat_minor": 4
}
